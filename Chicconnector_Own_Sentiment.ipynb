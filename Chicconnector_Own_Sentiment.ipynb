{
  "nbformat": 4,
  "nbformat_minor": 0,
  "metadata": {
    "colab": {
      "provenance": [],
      "authorship_tag": "ABX9TyMv8WKCEKCysFjnHzxbupau",
      "include_colab_link": true
    },
    "kernelspec": {
      "name": "python3",
      "display_name": "Python 3"
    },
    "language_info": {
      "name": "python"
    }
  },
  "cells": [
    {
      "cell_type": "markdown",
      "metadata": {
        "id": "view-in-github",
        "colab_type": "text"
      },
      "source": [
        "<a href=\"https://colab.research.google.com/github/Chic-Connector/Chic-Connector/blob/main/Chicconnector_Own_Sentiment.ipynb\" target=\"_parent\"><img src=\"https://colab.research.google.com/assets/colab-badge.svg\" alt=\"Open In Colab\"/></a>"
      ]
    },
    {
      "cell_type": "code",
      "execution_count": 5,
      "metadata": {
        "colab": {
          "base_uri": "https://localhost:8080/",
          "height": 920
        },
        "id": "flNQuaGUYjMh",
        "outputId": "66d05164-e2d3-48ea-d2b3-685abecd156d"
      },
      "outputs": [
        {
          "output_type": "display_data",
          "data": {
            "text/plain": [
              "<Figure size 640x480 with 1 Axes>"
            ],
            "image/png": "[encoded data removed]"
          },
          "metadata": {}
        },
        {
          "output_type": "stream",
          "name": "stdout",
          "text": [
            "Accuracy: 0.85\n",
            "\n",
            "Classification Report:\n",
            "               precision    recall  f1-score   support\n",
            "\n",
            "    negative       0.84      0.87      0.86      2523\n",
            "    positive       0.87      0.84      0.85      2477\n",
            "\n",
            "    accuracy                           0.85      5000\n",
            "   macro avg       0.86      0.85      0.85      5000\n",
            "weighted avg       0.86      0.85      0.85      5000\n",
            "\n",
            "\n",
            "Confusion Matrix:\n",
            " [[2205  318]\n",
            " [ 407 2070]]\n",
            "Actual Sentiment: positive\n",
            "Predicted Sentiment: positive\n",
            "\n",
            "Review:\n",
            "So terrific, so good. I have never seen a man be more funny than Eddie Murphy. In this stand-up-comedy you will see a lot of imitations more done by anyone!<br /><br />If you have seen Raw (1987) you will have to see Delirious. It's so funny! It's so professional!\n",
            "Actual Sentiment: positive\n",
            "Predicted Sentiment: positive\n",
            "\n",
            "Review:\n",
            "All I can say is, if you don't fall in love with Big and Little Edie after watching this movie, then you're not human! Even after watching it for the first time, I was hooked. It is a mesmerizing experience that is difficult to describe, as I'm sure other fans will attest to. After watching it, you will cry to think that these two wonderful ladies are no longer with us. At least we have Grey Gardens to remember them! I think we all long to possess the fierce independence these two ladies were graced with. Although I have always admired Jackie Onassis Kennedy, she does not stay in your heart the way Big and Little Edie do. What a rare treat to have know such people; I only wish I had!\n"
          ]
        }
      ],
      "source": [
        "import pandas as pd\n",
        "import numpy as np\n",
        "import matplotlib.pyplot as plt\n",
        "import seaborn as sns\n",
        "import os\n",
        "import requests\n",
        "import tarfile\n",
        "from sklearn.model_selection import train_test_split\n",
        "from sklearn.feature_extraction.text import CountVectorizer\n",
        "from sklearn.naive_bayes import MultinomialNB\n",
        "from sklearn.metrics import accuracy_score, classification_report, confusion_matrix\n",
        "from sklearn.utils import shuffle\n",
        "\n",
        "\n",
        "\"\"\"For this example, you can use the IMDb dataset. You can download the dataset\n",
        "from https://ai.stanford.edu/~amaas/data/sentiment/. Extract the dataset and\n",
        "organize it into two folders: 'pos' for positive reviews and 'neg' for negative\n",
        "reviews.\"\"\"\n",
        "\n",
        "\n",
        "def download_and_extract_data(url, download_folder):\n",
        "    # Create the download folder if it doesn't exist\n",
        "    if not os.path.exists(download_folder):\n",
        "        os.makedirs(download_folder)\n",
        "\n",
        "    # Download the GZ file\n",
        "    gz_file_path = os.path.join(download_folder, \"aclImdb_v1.tar.gz\")\n",
        "    with open(gz_file_path, \"wb\") as f:\n",
        "        response = requests.get(url)\n",
        "        f.write(response.content)\n",
        "\n",
        "    # Extract the contents of the GZ file\n",
        "    with tarfile.open(gz_file_path, \"r:gz\") as tar:\n",
        "        tar.extractall(download_folder)\n",
        "\n",
        "    # Return the path to the extracted folder\n",
        "    return os.path.join(download_folder, \"aclImdb\")\n",
        "\n",
        "def load_data(folder):\n",
        "    files = [f for f in os.listdir(folder) if os.path.isfile(os.path.join(folder, f))]\n",
        "    reviews = []\n",
        "    for file in files:\n",
        "        with open(os.path.join(folder, file), 'r', encoding='utf-8') as f:\n",
        "            review = f.read()\n",
        "            reviews.append(review)\n",
        "    return reviews\n",
        "\n",
        "# URL of the Stanford sentiment analysis dataset\n",
        "stanford_data_url = \"https://ai.stanford.edu/~amaas/data/sentiment/aclImdb_v1.tar.gz\"\n",
        "\n",
        "# Folder where the data will be downloaded and extracted\n",
        "download_folder = \"stanford_sentiment_data\"\n",
        "\n",
        "# Download and extract the data\n",
        "data_folder = download_and_extract_data(stanford_data_url, download_folder)\n",
        "\n",
        "# Load the data using the modified load_data function\n",
        "positive_reviews = load_data(os.path.join(data_folder, 'train', 'pos'))\n",
        "negative_reviews = load_data(os.path.join(data_folder, 'train', 'neg'))\n",
        "\n",
        "# Create a DataFrame\n",
        "data = pd.DataFrame({'review': positive_reviews + negative_reviews,\n",
        "                     'sentiment': ['positive'] * len(positive_reviews) + ['negative'] * len(negative_reviews)})\n",
        "\n",
        "# Check the distribution of sentiments\n",
        "sns.countplot(x='sentiment', data=data)\n",
        "plt.show()\n",
        "\n",
        "# Shuffle the data\n",
        "data = shuffle(data)\n",
        "\n",
        "# Split the data into training and testing sets\n",
        "train_data, test_data, train_labels, test_labels = train_test_split(data['review'], data['sentiment'], test_size=0.2, random_state=42)\n",
        "\n",
        "# Use CountVectorizer to convert text data into a bag-of-words model\n",
        "vectorizer = CountVectorizer(stop_words='english')\n",
        "train_features = vectorizer.fit_transform(train_data)\n",
        "test_features = vectorizer.transform(test_data)\n",
        "\n",
        "# Use a Naive Bayes classifier for simplicity\n",
        "model = MultinomialNB()\n",
        "model.fit(train_features, train_labels)\n",
        "\n",
        "# Predictions on the test set\n",
        "predictions = model.predict(test_features)\n",
        "\n",
        "# Evaluate the model\n",
        "accuracy = accuracy_score(test_labels, predictions)\n",
        "print(f'Accuracy: {accuracy:.2f}')\n",
        "\n",
        "# Classification report and confusion matrix\n",
        "print('\\nClassification Report:\\n', classification_report(test_labels, predictions))\n",
        "print('\\nConfusion Matrix:\\n', confusion_matrix(test_labels, predictions))\n",
        "\n",
        "# Visualize a few examples\n",
        "def visualize_example(index):\n",
        "    print(f\"Actual Sentiment: {test_labels.iloc[index]}\")\n",
        "    print(f\"Predicted Sentiment: {predictions[index]}\")\n",
        "    print(\"\\nReview:\")\n",
        "    print(test_data.iloc[index])\n",
        "\n",
        "# Visualize a positive example\n",
        "visualize_example(0)\n",
        "\n",
        "# Visualize a negative example\n",
        "visualize_example(1)"
      ]
    }
  ]
}